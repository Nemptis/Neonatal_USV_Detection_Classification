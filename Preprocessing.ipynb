{
 "cells": [
  {
   "cell_type": "markdown",
   "id": "5f3d43cd-e6d1-4446-b8ef-18f102a4af59",
   "metadata": {},
   "source": [
    "# Pre-processing"
   ]
  },
  {
   "cell_type": "markdown",
   "id": "89d6d01a-75b2-46ce-ba89-77b06120f2b8",
   "metadata": {},
   "source": [
    "Pre-Preocessing:/Users/johannmaass/Desktop/Doktor/ZeTeM/Toller_Ordner_use_this/Pre-processing\n",
    "Detection: /Users/johannmaass/Desktop/Doktor/ZeTeM/Toller_Ordner_use_this\n",
    "Efficiency Net B5: /Users/johannmaass/Desktop/Doktor/ZeTeM/Rudolf_net\n",
    "\n",
    "Daten mit preprocessing in het und wt trennen /Users/johannmaass/Desktop/Doktor/ZeTeM/Toller_Ordner_use_this/Pre-processing -- kopieren zu --> data\n",
    "\n",
    "Daten mit neuer detection detektieren -> .csv (/Users/johannmaass/Desktop/Doktor/ZeTeM/Toller_Ordner_use_this/data)\n",
    "\n",
    "Data Folder mit Efficiency Net aufrufen\n"
   ]
  },
  {
   "cell_type": "markdown",
   "id": "fe52c1ed-f171-46cd-b2aa-1892b0bc7305",
   "metadata": {},
   "source": [
    "## delete all .csv files"
   ]
  },
  {
   "cell_type": "code",
   "execution_count": 12,
   "id": "a75513c6-2e24-43ef-9e8a-9aae3b04351d",
   "metadata": {},
   "outputs": [],
   "source": [
    "import os\n",
    "\n",
    "folder_path = '/Users/johannmaass/Desktop/Doktor/ZeTeM/Rudolf_net_2/Data'\n",
    "\n",
    "# List all files in the folder\n",
    "files = os.listdir(folder_path)\n",
    "\n",
    "# Filter out CSV files\n",
    "csv_files = [file for file in files if file.endswith('.csv')]\n",
    "\n",
    "# Delete each CSV file\n",
    "for csv_file in csv_files:\n",
    "    csv_file_path = os.path.join(folder_path, csv_file)\n",
    "    os.remove(csv_file_path)\n",
    "    print(f\"Deleted file: {csv_file_path}\")"
   ]
  },
  {
   "cell_type": "markdown",
   "id": "fcfca526-6fad-4bf4-ac12-f79f7dd23ebb",
   "metadata": {},
   "source": [
    "## sort into two folders"
   ]
  },
  {
   "cell_type": "code",
   "execution_count": 7,
   "id": "be84d0a9-b0d2-4a69-88d2-ab521a203fa5",
   "metadata": {},
   "outputs": [
    {
     "name": "stdout",
     "output_type": "stream",
     "text": [
      "/Users/johannmaass/Desktop/Doktor/ZeTeM/Toller_Ordner_use_this/Pre-processing\n"
     ]
    }
   ],
   "source": [
    "cd /Users/johannmaass/Desktop/Doktor/ZeTeM/Toller_Ordner_use_this/Pre-processing"
   ]
  },
  {
   "cell_type": "code",
   "execution_count": 9,
   "id": "2e4f73e1-8c1d-45fc-9c4f-bd1834e0ae60",
   "metadata": {},
   "outputs": [],
   "source": [
    "import os\n",
    "import shutil\n",
    "\n",
    "def move_files_by_pattern(src_folder):\n",
    "    # Define parent directory for destination folders\n",
    "    parent_folder = os.path.dirname(src_folder)\n",
    "    \n",
    "    # Create destination folders if they don't exist\n",
    "    dest_folder_wt = os.path.join(parent_folder, 'wt')\n",
    "    dest_folder_het = os.path.join(parent_folder, 'het')\n",
    "    os.makedirs(dest_folder_wt, exist_ok=True)\n",
    "    os.makedirs(dest_folder_het, exist_ok=True)\n",
    "    \n",
    "    # List all files in the source folder\n",
    "    files = os.listdir(src_folder)\n",
    "    \n",
    "    # Iterate through files\n",
    "    for file in files:\n",
    "        # Check if the file name contains '0_m' indicating 'wt' or '1_m' indicating 'het'\n",
    "        if '0_m' in file or '0_f' in file:\n",
    "            # Move the file to the 'wt' folder\n",
    "            shutil.move(os.path.join(src_folder, file), os.path.join(dest_folder_wt, file))\n",
    "        elif '1_m' in file or '1_f' in file:\n",
    "            # Move the file to the 'het' folder\n",
    "            shutil.move(os.path.join(src_folder, file), os.path.join(dest_folder_het, file))\n",
    "\n",
    "# Example usage\n",
    "src_folder = '/Users/johannmaass/Desktop/Doktor/ZeTeM/Toller_Ordner_use_this/Pre-processing'\n",
    "\n",
    "move_files_by_pattern(src_folder)\n"
   ]
  },
  {
   "cell_type": "code",
   "execution_count": null,
   "id": "5aa4c92c-b4fc-4fa3-9826-f485ddaa0f76",
   "metadata": {},
   "outputs": [],
   "source": []
  }
 ],
 "metadata": {
  "kernelspec": {
   "display_name": "Python 3 (ipykernel)",
   "language": "python",
   "name": "python3"
  },
  "language_info": {
   "codemirror_mode": {
    "name": "ipython",
    "version": 3
   },
   "file_extension": ".py",
   "mimetype": "text/x-python",
   "name": "python",
   "nbconvert_exporter": "python",
   "pygments_lexer": "ipython3",
   "version": "3.9.6"
  }
 },
 "nbformat": 4,
 "nbformat_minor": 5
}
